{
  "cells": [
    {
      "cell_type": "markdown",
      "metadata": {
        "id": "Z0rRfhU3TLi8"
      },
      "source": [
        "## assigns"
      ]
    },
    {
      "cell_type": "code",
      "source": [
        "import numpy\n"
      ],
      "metadata": {
        "id": "YNZw56HeTMdW"
      },
      "execution_count": 1,
      "outputs": []
    },
    {
      "cell_type": "code",
      "source": [],
      "metadata": {
        "id": "HOcWi3K3TiKC"
      },
      "execution_count": null,
      "outputs": []
    }
  ],
  "metadata": {
    "language_info": {
      "name": "python"
    },
    "colab": {
      "provenance": []
    },
    "kernelspec": {
      "name": "python3",
      "display_name": "Python 3"
    }
  },
  "nbformat": 4,
  "nbformat_minor": 0
}